{
 "cells": [
  {
   "cell_type": "markdown",
   "id": "778cb5fc-09ec-466b-8479-6f0baa4cffea",
   "metadata": {},
   "source": [
    "### Print"
   ]
  },
  {
   "cell_type": "code",
   "execution_count": 1,
   "id": "02145bc6-ef5d-40c8-b2e3-cfa44934ea26",
   "metadata": {},
   "outputs": [
    {
     "name": "stdin",
     "output_type": "stream",
     "text": [
      "Enter you name:  Yogesh\n"
     ]
    },
    {
     "name": "stdout",
     "output_type": "stream",
     "text": [
      "Hello and Welcome Yogesh!!!\n"
     ]
    }
   ],
   "source": [
    "my_name = input(\"Enter you name: \")\n",
    "print(f\"Hello and Welcome {my_name}!!!\")"
   ]
  },
  {
   "cell_type": "code",
   "execution_count": 3,
   "id": "79db64f1-c34a-4612-89e3-cfd9206be70c",
   "metadata": {},
   "outputs": [
    {
     "name": "stdout",
     "output_type": "stream",
     "text": [
      "Welcome to the Playground\n"
     ]
    }
   ],
   "source": [
    "print(\"Welcome to the Playground\")"
   ]
  },
  {
   "cell_type": "markdown",
   "id": "01b47ce0-1e3b-4fe9-bd18-c341f5221eef",
   "metadata": {},
   "source": [
    "### sums"
   ]
  },
  {
   "cell_type": "code",
   "execution_count": 4,
   "id": "5462d67a-75b2-4ab5-bba8-a6f70875ae79",
   "metadata": {},
   "outputs": [
    {
     "name": "stdout",
     "output_type": "stream",
     "text": [
      "10\n",
      "5\n",
      "15\n",
      "5.0\n"
     ]
    }
   ],
   "source": [
    "print(7 + 3)\n",
    "print(10 - 5)\n",
    "print(5 * 3)\n",
    "print(10 / 2)"
   ]
  },
  {
   "cell_type": "markdown",
   "id": "8f1191f0-d68b-45a9-aded-d03966f2ae9b",
   "metadata": {},
   "source": [
    "### Add two number"
   ]
  },
  {
   "cell_type": "code",
   "execution_count": 7,
   "id": "f625b403-a96a-4545-a4c5-bfd7b7eb8204",
   "metadata": {},
   "outputs": [
    {
     "name": "stdin",
     "output_type": "stream",
     "text": [
      "Enter a number 5\n",
      "Enter a number 6\n"
     ]
    },
    {
     "name": "stdout",
     "output_type": "stream",
     "text": [
      "11\n"
     ]
    }
   ],
   "source": [
    "a = int(input(\"Enter a number\"))\n",
    "b = int(input(\"Enter a number\"))\n",
    "result = a + b \n",
    "print(result)"
   ]
  },
  {
   "cell_type": "markdown",
   "id": "fb8fc45a-1977-49ec-918f-ca8708452519",
   "metadata": {},
   "source": [
    "### Multiple two number"
   ]
  },
  {
   "cell_type": "code",
   "execution_count": 8,
   "id": "f0a80ad1-5f99-4e4a-afde-220323cc47e0",
   "metadata": {},
   "outputs": [
    {
     "name": "stdin",
     "output_type": "stream",
     "text": [
      "Enter a number 5\n",
      "Enter a number 5\n"
     ]
    },
    {
     "name": "stdout",
     "output_type": "stream",
     "text": [
      "25\n"
     ]
    }
   ],
   "source": [
    "a = int(input(\"Enter a number\"))\n",
    "b = int(input(\"Enter a number\"))\n",
    "result = a * b \n",
    "print(result)"
   ]
  },
  {
   "cell_type": "markdown",
   "id": "d77b5d8b-77fb-4609-ab91-03e6fa3c3a41",
   "metadata": {},
   "source": [
    "### Even number"
   ]
  },
  {
   "cell_type": "code",
   "execution_count": 1,
   "id": "da583a42-20f6-42c8-b88f-2941e60a5ec5",
   "metadata": {},
   "outputs": [
    {
     "name": "stdin",
     "output_type": "stream",
     "text": [
      "Enter a number:  8\n"
     ]
    },
    {
     "name": "stdout",
     "output_type": "stream",
     "text": [
      "8 is a even number\n"
     ]
    }
   ],
   "source": [
    "num = int(input(\"Enter a number: \"))\n",
    "if num%2 == 0:\n",
    "     print(f\"{num} is a even number\")\n",
    "else:\n",
    "     print(f\"{num} is a odd number\")"
   ]
  },
  {
   "cell_type": "code",
   "execution_count": null,
   "id": "2b8ba00d-c8cc-4f24-9c8b-8448af4ebbf6",
   "metadata": {},
   "outputs": [],
   "source": []
  },
  {
   "cell_type": "markdown",
   "id": "628b8f24-6a08-451e-bdb3-13bc56fe3ccb",
   "metadata": {},
   "source": [
    "### Reverse number"
   ]
  },
  {
   "cell_type": "code",
   "execution_count": 2,
   "id": "510cce9c-ba8b-4aa9-a641-52ca48827f42",
   "metadata": {},
   "outputs": [
    {
     "name": "stdin",
     "output_type": "stream",
     "text": [
      "Enter a number:  123456789\n"
     ]
    },
    {
     "name": "stdout",
     "output_type": "stream",
     "text": [
      "The reverse number is 987654321\n"
     ]
    }
   ],
   "source": [
    "number = int(input(\"Enter a number: \"))\n",
    "reverse_num = int(str(number)[::-1])\n",
    "print(f\"The reverse number is {reverse_num}\")\n"
   ]
  },
  {
   "cell_type": "code",
   "execution_count": 3,
   "id": "bfe0bd86-4723-4544-a329-a2f7401cfe4e",
   "metadata": {},
   "outputs": [
    {
     "name": "stdin",
     "output_type": "stream",
     "text": [
      "Enter the integer number:  12345\n"
     ]
    },
    {
     "name": "stdout",
     "output_type": "stream",
     "text": [
      "The reverse number is : 54321\n"
     ]
    }
   ],
   "source": [
    "number = int(input(\"Enter the integer number: \"))  \n",
    "  \n",
    "revs_number = 0  \n",
    "  \n",
    "while (number > 0):  \n",
    "    remainder = number % 10  \n",
    "    revs_number = (revs_number * 10) + remainder  \n",
    "    number = number // 10  \n",
    "  \n",
    "print(\"The reverse number is :\",revs_number) "
   ]
  },
  {
   "cell_type": "markdown",
   "id": "468c945c-cf30-4dff-afa9-71d509ef70a8",
   "metadata": {},
   "source": [
    "### Armstrong number"
   ]
  },
  {
   "cell_type": "code",
   "execution_count": 7,
   "id": "272a52c0-afcb-4690-8b6c-bc7372ce8e62",
   "metadata": {},
   "outputs": [
    {
     "name": "stdin",
     "output_type": "stream",
     "text": [
      "Enter a number:  371\n"
     ]
    },
    {
     "name": "stdout",
     "output_type": "stream",
     "text": [
      "371 is an Armstrong number.\n"
     ]
    }
   ],
   "source": [
    "def is_armstrong_number(num):\n",
    "    num_str = str(num)\n",
    "    num_digits = len(num_str)\n",
    "    armstrong_sum = sum(int(digit) ** num_digits for digit in num_str)\n",
    "    return armstrong_sum == num\n",
    "\n",
    "num = int(input(\"Enter a number: \"))\n",
    "\n",
    "if is_armstrong_number(num):\n",
    "    print(f\"{num} is an Armstrong number.\")\n",
    "else:\n",
    "    print(f\"{num} is not an Armstrong number.\")\n"
   ]
  },
  {
   "cell_type": "markdown",
   "id": "b59ed555-b4f7-4185-b50e-cf9d3750d242",
   "metadata": {},
   "source": [
    "### Leap Year or not"
   ]
  },
  {
   "cell_type": "code",
   "execution_count": 14,
   "id": "f4ff4b45-c42e-41b7-b2c2-89f7b1f9e908",
   "metadata": {},
   "outputs": [
    {
     "name": "stdin",
     "output_type": "stream",
     "text": [
      "Enter Your Year:  1947\n"
     ]
    },
    {
     "name": "stdout",
     "output_type": "stream",
     "text": [
      "1947 is not leap year.\n"
     ]
    }
   ],
   "source": [
    "year = int(input(\"Enter Your Year: \"))\n",
    "if year%400 ==0 and year%4 == 0 or year%4 == 0 :\n",
    "    print(f\"{year} is a leap year.\")   \n",
    "else:\n",
    "    print(f\"{year} is not leap year.\")"
   ]
  },
  {
   "cell_type": "code",
   "execution_count": null,
   "id": "07bfe10b-cd6b-49b4-bf1c-0c5a756b939c",
   "metadata": {},
   "outputs": [],
   "source": []
  },
  {
   "cell_type": "markdown",
   "id": "0ea6e70f-ed36-4fed-91b1-c157c6eef6a3",
   "metadata": {},
   "source": [
    "### Convert celsius to fahrenheit"
   ]
  },
  {
   "cell_type": "code",
   "execution_count": 19,
   "id": "a993295f-52d0-4f43-8ec8-4636676e2e6d",
   "metadata": {},
   "outputs": [
    {
     "name": "stdin",
     "output_type": "stream",
     "text": [
      "Enter your celsius:  92\n"
     ]
    },
    {
     "name": "stdout",
     "output_type": "stream",
     "text": [
      "Temperature in fahrenheit 197.6\n"
     ]
    }
   ],
   "source": [
    "celsius = float(input(\"Enter your celsius: \"))\n",
    "Fahrenheit_Temperature = (1.8 * celsius) + 32\n",
    "print(f\"Temperature in fahrenheit {Fahrenheit_Temperature}\")"
   ]
  },
  {
   "cell_type": "code",
   "execution_count": null,
   "id": "fae84e7b-b597-4aab-ae87-063978eae1fd",
   "metadata": {},
   "outputs": [],
   "source": []
  },
  {
   "cell_type": "markdown",
   "id": "8e540403-52b3-47b4-8702-032e53973958",
   "metadata": {},
   "source": [
    "### Factorial of a number"
   ]
  },
  {
   "cell_type": "code",
   "execution_count": 22,
   "id": "a399a72c-67b6-4562-a320-ba6af2021552",
   "metadata": {},
   "outputs": [
    {
     "name": "stdin",
     "output_type": "stream",
     "text": [
      "Enter a number:  5\n"
     ]
    },
    {
     "name": "stdout",
     "output_type": "stream",
     "text": [
      "Factorial of a given number is : 120\n"
     ]
    }
   ],
   "source": [
    "Number = int(input(\"Enter a number: \"))\n",
    "factorial = 1\n",
    "if Number>=1:\n",
    "    for i in range (1, Number+1):\n",
    "        factorial = factorial * i\n",
    "print(f\"Factorial of a given number is :\",factorial)"
   ]
  },
  {
   "cell_type": "code",
   "execution_count": null,
   "id": "5e537778-c339-4ab5-ba34-5d7fea5e11e7",
   "metadata": {},
   "outputs": [],
   "source": []
  },
  {
   "cell_type": "code",
   "execution_count": 26,
   "id": "e2eca4cb-acf0-4634-937e-b63cf8436329",
   "metadata": {},
   "outputs": [
    {
     "name": "stdin",
     "output_type": "stream",
     "text": [
      "Enter the first word or phrase:  god\n",
      "Enter the second word or phrase:  dog\n"
     ]
    },
    {
     "name": "stdout",
     "output_type": "stream",
     "text": [
      "god and dog are anagrams.\n"
     ]
    }
   ],
   "source": [
    "def anagram_check(str1,str2):\n",
    "    str1 = str1.replace(\" \", \"\").lower()\n",
    "    str2 = str2.replace(\" \", \"\").lower()\n",
    "    return sorted(str1) == sorted(str2)\n",
    "\n",
    "\n",
    "word1 = input(\"Enter the first word or phrase: \")\n",
    "word2 = input(\"Enter the second word or phrase: \")\n",
    "\n",
    "if anagram_check(word1, word2):\n",
    "    print(f\"{word1} and {word2} are anagrams.\")\n",
    "else:\n",
    "    print(f\"{word1} and {word2} are not anagrams.\")\n"
   ]
  },
  {
   "cell_type": "code",
   "execution_count": null,
   "id": "5f6524f9-d1ff-4fe7-be3c-e572d31a5a42",
   "metadata": {},
   "outputs": [],
   "source": []
  },
  {
   "cell_type": "code",
   "execution_count": 1,
   "id": "5dd6e10d-2827-42fa-87be-2f56e05110f4",
   "metadata": {},
   "outputs": [
    {
     "name": "stdout",
     "output_type": "stream",
     "text": [
      "24\n"
     ]
    }
   ],
   "source": [
    "n = [2, 4, 6, 8]\n",
    "res = 1\n",
    "for x in n[1:3]:\n",
    "  res *= x\n",
    "\n",
    "print(res)"
   ]
  },
  {
   "cell_type": "markdown",
   "id": "449ebb35-aa42-476a-b883-87fe35c06017",
   "metadata": {},
   "source": [
    "### FizzBuzz "
   ]
  },
  {
   "cell_type": "code",
   "execution_count": 5,
   "id": "d632ff67-7994-48b5-9c1e-e3e61bbfd5a2",
   "metadata": {},
   "outputs": [],
   "source": [
    "def fizzbuzz(n):\n",
    "    for i in range (1,n+1):\n",
    "        if i%5 == 0 and i%3 == 0:\n",
    "            print (\"FizzBuzz\")\n",
    "        elif i%3 == 0:\n",
    "            print(\"Fizz\")\n",
    "        elif i%5 == 0:\n",
    "            print(\"Buzz\")\n",
    "        else:\n",
    "            print(i)\n"
   ]
  },
  {
   "cell_type": "code",
   "execution_count": 6,
   "id": "7569e10b-7b66-4e85-b3b1-93a80a762ab2",
   "metadata": {},
   "outputs": [
    {
     "name": "stdout",
     "output_type": "stream",
     "text": [
      "1\n",
      "2\n",
      "Fizz\n",
      "4\n",
      "Buzz\n",
      "Fizz\n",
      "7\n",
      "8\n",
      "Fizz\n",
      "Buzz\n",
      "11\n",
      "Fizz\n",
      "13\n",
      "14\n",
      "FizzBuzz\n",
      "16\n",
      "17\n",
      "Fizz\n",
      "19\n",
      "Buzz\n"
     ]
    }
   ],
   "source": [
    "fizzbuzz(20)"
   ]
  },
  {
   "cell_type": "markdown",
   "id": "a80a3385-718c-4a66-8cf5-78dc7e86022f",
   "metadata": {},
   "source": [
    "### Prime Number"
   ]
  },
  {
   "cell_type": "code",
   "execution_count": 14,
   "id": "09b24085-1354-4a1f-a1e4-9edc66d74c67",
   "metadata": {},
   "outputs": [
    {
     "name": "stdin",
     "output_type": "stream",
     "text": [
      "Enter a Start number 2\n",
      "Enter a end number 20\n"
     ]
    },
    {
     "name": "stdout",
     "output_type": "stream",
     "text": [
      "Prime numbers between 2 and 20 are:\n",
      "2\n",
      "3\n",
      "5\n",
      "7\n",
      "11\n",
      "13\n",
      "17\n",
      "19\n"
     ]
    }
   ],
   "source": [
    "start = int(input(\"Enter a Start number\"))\n",
    "end = int(input(\"Enter a end number\"))\n",
    "\n",
    "print(\"Prime numbers between\", start, \"and\", end, \"are:\")\n",
    "\n",
    "for num in range(start, end + 1):\n",
    "   if num > 1:\n",
    "       for i in range(2, num):\n",
    "           if (num % i) == 0:\n",
    "               break\n",
    "       else:\n",
    "           print(num)"
   ]
  },
  {
   "cell_type": "code",
   "execution_count": null,
   "id": "d6d320a7-c879-4a2d-907f-57fa1358703f",
   "metadata": {},
   "outputs": [],
   "source": []
  }
 ],
 "metadata": {
  "kernelspec": {
   "display_name": "Python 3 (ipykernel)",
   "language": "python",
   "name": "python3"
  },
  "language_info": {
   "codemirror_mode": {
    "name": "ipython",
    "version": 3
   },
   "file_extension": ".py",
   "mimetype": "text/x-python",
   "name": "python",
   "nbconvert_exporter": "python",
   "pygments_lexer": "ipython3",
   "version": "3.12.0"
  }
 },
 "nbformat": 4,
 "nbformat_minor": 5
}
