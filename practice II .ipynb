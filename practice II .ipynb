{
 "cells": [
  {
   "cell_type": "markdown",
   "id": "44a23e72-f279-431b-8f88-8d3c6c3850ca",
   "metadata": {},
   "source": [
    "### Prime number"
   ]
  },
  {
   "cell_type": "code",
   "execution_count": 4,
   "id": "dbb75a38-63a8-4853-a6ea-10f00e10077c",
   "metadata": {},
   "outputs": [
    {
     "name": "stdout",
     "output_type": "stream",
     "text": [
      "Numbers divisible by 13 are [12, 50, 102, 40]\n"
     ]
    }
   ],
   "source": [
    "my_list = [12, 63, 50, 39, 102, 31, 25, 40]\n",
    "result = list(filter(lambda x: (x % 2 == 0), my_list))\n",
    "\n",
    "print(f\"Numbers divisible by 13 are {result}\")"
   ]
  },
  {
   "cell_type": "code",
   "execution_count": null,
   "id": "ba4dd198-6f0f-4dd5-b499-e50ff7507432",
   "metadata": {},
   "outputs": [],
   "source": []
  },
  {
   "cell_type": "markdown",
   "id": "3f5267b9-789c-4c83-82f0-657fb8f5fcb9",
   "metadata": {},
   "source": [
    "### Fibonacci "
   ]
  },
  {
   "cell_type": "code",
   "execution_count": 9,
   "id": "e774b6cc-47fc-447c-9be3-4a8028b00f5e",
   "metadata": {},
   "outputs": [
    {
     "name": "stdout",
     "output_type": "stream",
     "text": [
      "[0, 1, 1, 2, 3, 5, 8, 13, 21, 34]\n"
     ]
    }
   ],
   "source": [
    "def fibonacci(n):\n",
    "    if n<= 1:\n",
    "        return n \n",
    "    else:\n",
    "        return fibonacci (n-1) + fibonacci(n-2)\n",
    "n = 10       \n",
    "result = [fibonacci(i) for i in range (n)]\n",
    "print(result)"
   ]
  },
  {
   "cell_type": "code",
   "execution_count": null,
   "id": "ba6533e3-46cb-4703-b1b4-065c7fa1d6fe",
   "metadata": {},
   "outputs": [],
   "source": []
  },
  {
   "cell_type": "markdown",
   "id": "2ca076cd-03bf-4f0a-98fd-ca43b1e9d52a",
   "metadata": {},
   "source": [
    "### Square root"
   ]
  },
  {
   "cell_type": "code",
   "execution_count": 10,
   "id": "ecf43160-9d12-48e5-bf74-26c40d247f97",
   "metadata": {},
   "outputs": [
    {
     "name": "stdin",
     "output_type": "stream",
     "text": [
      "Enter a number 5\n"
     ]
    },
    {
     "name": "stdout",
     "output_type": "stream",
     "text": [
      "The Square root of 5 is 25\n"
     ]
    }
   ],
   "source": [
    "num = int(input(\"Enter a number\"))\n",
    "sq_rt = num ** 2 \n",
    "print(f\"The Square root of {num} is {sq_rt}\")"
   ]
  },
  {
   "cell_type": "code",
   "execution_count": null,
   "id": "87ab46fb-53cb-4340-8113-b19e7ec13ca0",
   "metadata": {},
   "outputs": [],
   "source": []
  },
  {
   "cell_type": "markdown",
   "id": "55e13948-af96-4201-84ba-e2cf79894677",
   "metadata": {},
   "source": [
    "### Swap"
   ]
  },
  {
   "cell_type": "code",
   "execution_count": 12,
   "id": "76f2d6eb-7e84-4887-a29f-19f61f7fd2e5",
   "metadata": {},
   "outputs": [
    {
     "name": "stdin",
     "output_type": "stream",
     "text": [
      "Enter a number 5\n",
      "Enter a number 6\n"
     ]
    },
    {
     "name": "stdout",
     "output_type": "stream",
     "text": [
      "The value of x after swap: 6\n",
      "The value of y after swap: 5\n"
     ]
    }
   ],
   "source": [
    "x = int(input(\"Enter a number\"))\n",
    "y = int(input(\"Enter a number\"))\n",
    "temp = x\n",
    "x = y\n",
    "y = temp\n",
    "print(\"The value of x after swap: {}\".format(x))\n",
    "print(\"The value of y after swap: {}\".format(y))"
   ]
  },
  {
   "cell_type": "code",
   "execution_count": null,
   "id": "bddf69b4-36d8-4601-a7d9-b12c4fb50c91",
   "metadata": {},
   "outputs": [],
   "source": []
  },
  {
   "cell_type": "code",
   "execution_count": null,
   "id": "3eb0b5f6-2f9f-4103-9616-7ee630f8b2c8",
   "metadata": {},
   "outputs": [],
   "source": []
  }
 ],
 "metadata": {
  "kernelspec": {
   "display_name": "Python 3 (ipykernel)",
   "language": "python",
   "name": "python3"
  },
  "language_info": {
   "codemirror_mode": {
    "name": "ipython",
    "version": 3
   },
   "file_extension": ".py",
   "mimetype": "text/x-python",
   "name": "python",
   "nbconvert_exporter": "python",
   "pygments_lexer": "ipython3",
   "version": "3.12.0"
  }
 },
 "nbformat": 4,
 "nbformat_minor": 5
}
